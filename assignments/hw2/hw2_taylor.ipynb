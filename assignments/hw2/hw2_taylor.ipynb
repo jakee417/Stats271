{
 "cells": [
  {
   "cell_type": "markdown",
   "metadata": {
    "id": "1jPCGP8HT8G4"
   },
   "source": [
    "# HW2 - Bayesian Inference in the Poisson Generalized Linear Model\n",
    "\n",
    "**STATS271/371: Applied Bayesian Statistics**\n",
    "\n",
    "_Stanford University. Winter, 2021._\n",
    "\n",
    "---\n",
    "\n",
    "**Name:** Jake Taylor\n",
    "\n",
    "**Names of any collaborators:** None\n",
    "\n",
    "*Due: 11:59pm Friday, April 16, 2021 via GradeScope*\n",
    "\n",
    "---\n",
    "\n",
    "In this 2nd homework, we will perform Bayesian Inference in the Poisson generalized linear model.\n",
    "\n",
    "**References:**\n",
    "- Chapter 16 of BDA3 contains background material on generalized linear models.\n",
    "- Chapter 7.1 of BDA3 introduces notation for model evaluation based on predictive log likelihoods.\n",
    "- The data we use comes from [Uzzell & Chichilnisky, 2004](http://jn.physiology.org/content/92/2/780.long). If you're interested, see `README.txt` file in the `/data_RGCs` directory or the [Pillow  tutorial](https://github.com/pillowlab/GLMspiketraintutorial/blob/master/python/tutorial1_PoissonGLM.ipynb) for details.\n",
    "\n",
    "\n",
    "**Remark:** While some programming languages may incorporate packages that fit Poisson GLMs using one line of code, deriving some of the calculations yourself is an important part of this assignment. Therefore, calls to specialized GLM libraries such as pyglmnet are **prohibited**. Of course, standard libraries such as Numpy are still allowed (and encouraged!). calls to numerical optimizers (such as scipy.optimize.minimize) are fair game. \n"
   ]
  },
  {
   "cell_type": "markdown",
   "metadata": {
    "id": "psDYF3GTj4Qv"
   },
   "source": [
    "\n",
    "## The Poisson GLM\n",
    "The Poisson distribution is a common model for count data with a single parameter $\\lambda \\in \\mathbb{R}_+$. Its pmf is,\n",
    "\\begin{align}\n",
    "\\Pr(y \\mid \\lambda) &= \\frac{1}{y!} e^{-\\lambda} \\lambda^y,\n",
    "\\end{align}\n",
    "for $y \\in \\mathbb{N}$. Its mean and variance are both equal to $\\lambda$.\n",
    "\n",
    "Suppose we have count observations $y_n \\in \\mathbb{N}$ along with covariates $x_n \\in \\mathbb{R}^P$. We construct a Poisson GLM by modeling the expected value as,\n",
    "\\begin{align}\n",
    "\\mathbb{E}[y_n \\mid x_n] = f(w^\\top x_n),\n",
    "\\end{align}\n",
    "with $w \\in \\mathbb{R}^P$ and $f: \\mathbb{R} \\to \\mathbb{R}_+$ is the mean function. The _canonical mean function_ is $f(a) = e^a$; equivalently, the canonical _link_ function is the logarithm.\n",
    "\n",
    "\n",
    "We assume a Gaussian prior on the weights $w$:\n",
    "$$\n",
    "w \\sim \\mathcal{N}(0, \\sigma^2 I),\n",
    "$$\n",
    "\n",
    "where $\\sigma^2 I$ is the covariance matrix."
   ]
  },
  {
   "cell_type": "markdown",
   "metadata": {
    "id": "08JOl1fToUMp"
   },
   "source": [
    "## Load the data\n",
    "\n",
    "The data consists of spike counts from a retinal neuron responding to a flickering light. The spike counts are measured in 8.3ms bins and they range from 0 to 3 spikes/bin. The stimulus is binary, either .48 if the light is on or -.48 if it's off. The goal of this assignment is to model how the neural spike counts relate to recent light exposure over the past 25 time bins (approximately 200ms).\n",
    "\n",
    "We've provided some code to load the data in Python and plot it. Feel free to convert this to R if that is your preference."
   ]
  },
  {
   "cell_type": "code",
   "execution_count": 1,
   "metadata": {
    "colab": {
     "base_uri": "https://localhost:8080/",
     "height": 281
    },
    "id": "wITwcvbsoWAi",
    "outputId": "e51dbd5b-769c-48c4-8128-7427f7609baa"
   },
   "outputs": [
    {
     "data": {
      "image/png": "[encoded data removed]",
      "text/plain": [
       "<Figure size 432x288 with 2 Axes>"
      ]
     },
     "metadata": {
      "needs_background": "light"
     },
     "output_type": "display_data"
    }
   ],
   "source": [
    "!wget -nc -q https://raw.githubusercontent.com/slinderman/stats271sp2021/main/assignments/hw2/hw2.csv\n",
    "\n",
    "import pandas as pd\n",
    "import matplotlib.pyplot as plt\n",
    "import numpy as np\n",
    "\n",
    "df = pd.read_csv(\"hw2.csv\")\n",
    "\n",
    "# Convert the training data to arrays\n",
    "y_train = np.array(df[\"y_train\"])\n",
    "stim_train = np.array(df[\"stim_train\"])\n",
    "N_train = len(y_train)\n",
    "\n",
    "# Convert the test data to arrays\n",
    "y_test = np.array(df[\"y_test\"])\n",
    "stim_test = np.array(df[\"stim_test\"])\n",
    "N_test = len(y_test)\n",
    "\n",
    "# Plot the stimulus and spike counts\n",
    "fig, axs = plt.subplots(2, 1, sharex=True)\n",
    "axs[0].plot(stim_train[:50])\n",
    "axs[0].set_ylabel(\"stimulus\")\n",
    "axs[1].stem(y_train[:50], use_line_collection=True)\n",
    "axs[1].set_ylabel('spike count')\n",
    "_ = axs[1].set_xlabel('time bin [8.3ms each]')"
   ]
  },
  {
   "cell_type": "markdown",
   "metadata": {},
   "source": [
    "$\\pagebreak$"
   ]
  },
  {
   "cell_type": "markdown",
   "metadata": {
    "id": "anetQT3po1OT"
   },
   "source": [
    "## Problem 1: Construct the design matrix\n",
    "\n",
    "Let $y_n \\in \\mathbb{N}$ denote the spike count in the $n$-th time bin and  $s_n \\in \\mathbb{R}$ denote the corresponding stimulus at that bin.\n",
    "\n",
    "Construct the _design matrix_ for the training data $X \\in \\mathbb{R}^{N_{\\mathsf{train}} \\times P}$ with rows\n",
    "\\begin{align}\n",
    "x_n &= (1, s_n, s_{n-1}, \\ldots, s_{n-L+1})\n",
    "\\end{align}\n",
    "where $L=25$ denotes the number of stimulus bins to include in the covariates. (Thus the number of total covariates is $P=L+1$.)\n",
    "\n",
    "Visualize the first 50 rows of the matrix with, e.g., `imshow`. Don't forget your labels and colorbar.\n",
    "\n",
    "_Note: Pad the stimulus with zeros so that $s_i = 0$ for $i\\leq 0$._"
   ]
  },
  {
   "cell_type": "code",
   "execution_count": 2,
   "metadata": {
    "colab": {
     "base_uri": "https://localhost:8080/",
     "height": 300
    },
    "id": "ivgxNO6cpJrv",
    "outputId": "65dbfd8a-081a-4cde-a4d7-bbb385b8c76d"
   },
   "outputs": [
    {
     "data": {
      "text/plain": [
       "array([[ 1.  , -0.48,  0.  , ...,  0.  ,  0.  ,  0.  ],\n",
       "       [ 1.  ,  0.48, -0.48, ...,  0.  ,  0.  ,  0.  ],\n",
       "       [ 1.  ,  0.48,  0.48, ...,  0.  ,  0.  ,  0.  ],\n",
       "       ...,\n",
       "       [ 1.  , -0.48, -0.48, ..., -0.48,  0.48,  0.48],\n",
       "       [ 1.  ,  0.48, -0.48, ..., -0.48, -0.48,  0.48],\n",
       "       [ 1.  ,  0.48,  0.48, ..., -0.48, -0.48, -0.48]])"
      ]
     },
     "execution_count": 2,
     "metadata": {},
     "output_type": "execute_result"
    }
   ],
   "source": [
    "L = 25\n",
    "padded = np.pad(stim_train, (L-1, 0), 'constant', constant_values=(0, 0))\n",
    "X = np.lib.stride_tricks.sliding_window_view(padded, 25)\n",
    "X = np.flip(X, axis=1)\n",
    "X = np.pad(X, ((0, 0), (1, 0)), 'constant', constant_values = 1)\n",
    "X"
   ]
  },
  {
   "cell_type": "code",
   "execution_count": 3,
   "metadata": {},
   "outputs": [
    {
     "data": {
      "text/plain": [
       "(1000, 26)"
      ]
     },
     "execution_count": 3,
     "metadata": {},
     "output_type": "execute_result"
    }
   ],
   "source": [
    "X.shape"
   ]
  },
  {
   "cell_type": "code",
   "execution_count": 4,
   "metadata": {},
   "outputs": [
    {
     "data": {
      "image/png": "[encoded data removed]",
      "text/plain": [
       "<Figure size 432x288 with 2 Axes>"
      ]
     },
     "metadata": {
      "needs_background": "light"
     },
     "output_type": "display_data"
    }
   ],
   "source": [
    "plt.imshow(X[:50,])\n",
    "plt.xlabel('P')\n",
    "plt.ylabel('N')\n",
    "cax = plt.axes([0.85, 0.1, 0.075, 0.8])\n",
    "plt.colorbar(cax=cax)\n",
    "plt.show()"
   ]
  },
  {
   "cell_type": "markdown",
   "metadata": {},
   "source": [
    "$\\pagebreak$"
   ]
  },
  {
   "cell_type": "markdown",
   "metadata": {
    "id": "23qgr05qinYx"
   },
   "source": [
    "## Problem 2a [Math]: Derive the log joint probability\n",
    "Derive the log joint probability, \n",
    "\\begin{align}\n",
    "\\mathcal{L}(w) &\\triangleq \\log p(\\{y_n\\}_{n=1}^N, w \\mid \\{x_n\\}_{n=1}^N, \\sigma^2)\n",
    "\\end{align}\n",
    "\n",
    "\\begin{gather*}\n",
    "p(\\{y_n\\}_{n=1}^N, \\vec w | \\{\\vec x_n\\}_{n=1}^N, \\sigma^2) \\stackrel{\\perp}{=} \\prod_{i = 1}^n p(y_i, \\vec w | \\vec x_i, \\sigma^2) \\\\\n",
    "\\prod_{i = 1}^n \\frac{p(y_i, \\vec w, \\vec x_i, \\sigma^2)}{p(\\vec x_i, \\sigma^2)} \\\\\n",
    "=\\prod_{i = 1}^n \\frac{p(y_i | \\vec w, \\vec x_i, \\sigma^2) p(\\vec w, \\vec x_i, \\sigma^2)}{p(\\vec x_i, \\sigma^2)}\\\\\n",
    "\\propto \\prod_{i = 1}^n p(y_i | \\vec w, \\vec x_i)p(\\vec w| \\sigma^2)\\\\\n",
    "\\therefore \\mathcal L(\\vec w) \\propto \\sum_{i=1}^N \\log p(y_i|\\vec w, \\vec x_i) + \\log p(\\vec w| \\sigma^2)\\\\\n",
    "= \\sum_{i=1}^N -\\log y_i! - \\exp(\\vec w^T \\vec x_i)) + y_i\\cdot(\\vec w^T \\vec x_i) -\\frac{p}{2}\\log 2\\pi - \\frac{1}{2} \\log |\\sigma^{2} I_n| - \\frac{1}{2\\sigma^2}\\vec w^T I_n\\vec w\n",
    "\\end{gather*}\n",
    "And dropping all terms not dependent on $\\vec w$,\n",
    "\\begin{gather*}\n",
    "=\\sum_{i=1}^N y_i\\cdot(\\vec w^T \\vec x_i) - \\exp(\\vec w^T \\vec x_i))- \\frac{1}{2\\sigma^2}\\vec w^T\\vec w\n",
    "\\end{gather*}"
   ]
  },
  {
   "cell_type": "markdown",
   "metadata": {},
   "source": [
    "$\\pagebreak$"
   ]
  },
  {
   "cell_type": "markdown",
   "metadata": {
    "id": "sqkG56lw1Bp2"
   },
   "source": [
    "\n",
    "## Problem 2b [Code]: Implement the log probability function\n",
    "Write a function that computes the log joint probability and evaluate it on the training set with $w=(0, \\ldots, 0) \\in \\mathbb{R}^{P}$ and $\\sigma^2 = 1$. **Print your result.**"
   ]
  },
  {
   "cell_type": "code",
   "execution_count": 5,
   "metadata": {
    "colab": {
     "base_uri": "https://localhost:8080/"
    },
    "id": "p0ahnSed1GQp",
    "outputId": "defac3d0-5b96-4d88-c35c-1781862b7cec"
   },
   "outputs": [
    {
     "data": {
      "text/plain": [
       "-1000.0"
      ]
     },
     "execution_count": 5,
     "metadata": {},
     "output_type": "execute_result"
    }
   ],
   "source": [
    "w0 = np.zeros_like(X[0,:])\n",
    "    \n",
    "def log_prob(w, X, y, sigma2=1):\n",
    "    N, p = X.shape\n",
    "    return np.sum((y * X.dot(w)) - np.exp(X.dot(w))) - (1 / 2*sigma2) * w.T.dot(w)\n",
    "\n",
    "log_prob(w0, X, y_train)"
   ]
  },
  {
   "cell_type": "markdown",
   "metadata": {},
   "source": [
    "$\\pagebreak$"
   ]
  },
  {
   "cell_type": "markdown",
   "metadata": {
    "id": "cVygVMCsjKwq"
   },
   "source": [
    "\n",
    "## Problem 3a [Math]: Derive the gradient\n",
    "Derive the gradient of the log joint probability\n",
    "\\begin{align}\n",
    "\\nabla_w \\mathcal{L}(w) &= \\ldots\n",
    "\\end{align}\n",
    "\\begin{gather*}\n",
    " = \\frac{\\partial}{\\partial \\vec w} \\sum_N y_i(\\vec w^T \\vec x_i) - \\exp(\\vec w^T \\vec x_i) - \\frac{1}{2\\sigma^2}\\vec w^T \\vec w \\\\\n",
    " = \\sum_N y_i \\vec x_i -  \\exp(\\vec w^T \\vec x_i)\\vec x_i - \\frac{1}{\\sigma^2} \\vec w \\\\\n",
    " = \\sum_N x_i(y_i - \\exp(\\vec w^T \\vec x_i)) - \\frac{1}{\\sigma^2} \\vec w \n",
    "\\end{gather*}"
   ]
  },
  {
   "cell_type": "markdown",
   "metadata": {},
   "source": [
    "$\\pagebreak$"
   ]
  },
  {
   "cell_type": "markdown",
   "metadata": {
    "id": "ETPTUFhe4ZB-"
   },
   "source": [
    "\n",
    "## Problem 3b [Code]: Implement the gradient\n",
    "\n",
    "Write a function to compute the gradient wrt $w$ of the log probability for given values of $w$ and evaluate it on the training set at $w=(0, \\ldots, 0) \\in \\mathbb{R}^{P}$ and $\\sigma^2 = 1$. **Print your result.**\n",
    "\n",
    "**Note:**  While this is not required in this homework, it may be helpful to do numerical checks for gradient and Hessian calculations using finite differences.  See *e.g.* Section 4.2 of https://cilvr.cs.nyu.edu/diglib/lsml/bottou-sgd-tricks-2012.pdf.\n",
    "\n",
    "\n",
    " "
   ]
  },
  {
   "cell_type": "code",
   "execution_count": 6,
   "metadata": {
    "colab": {
     "base_uri": "https://localhost:8080/"
    },
    "id": "5WyzqpOj4jpD",
    "outputId": "1a74c035-11ce-4b04-9391-7e77e50012cf"
   },
   "outputs": [
    {
     "data": {
      "text/plain": [
       "array([-603.  ,    7.2 ,   18.24,   44.64,  119.04,  145.44,   64.32,\n",
       "        -51.84,  -59.04,  -44.64,  -44.16,  -47.52,  -54.24,  -33.12,\n",
       "        -27.84,  -50.4 ,  -48.  ,  -34.08,  -50.88,  -38.88,  -22.08,\n",
       "        -37.44,  -29.76,  -11.04,    2.4 ,    1.92])"
      ]
     },
     "execution_count": 6,
     "metadata": {},
     "output_type": "execute_result"
    }
   ],
   "source": [
    "w0 = np.zeros_like(X[0,:])\n",
    "\n",
    "def gradient(w, X, y, sigma2=1):\n",
    "    N, p = X.shape\n",
    "    return np.sum(X * (y_train - np.exp(X.dot(w))).reshape(N, 1), axis=0) - (1/sigma2) * w\n",
    "\n",
    "gradient(w0, X, y_train)"
   ]
  },
  {
   "cell_type": "markdown",
   "metadata": {},
   "source": [
    "$\\pagebreak$"
   ]
  },
  {
   "cell_type": "markdown",
   "metadata": {
    "id": "VTYZnoVtjd16"
   },
   "source": [
    "## Problem 4a [Math]: Derive the Hessian\n",
    "Derive the Hessian of the log joint probability\n",
    "\\begin{align}\n",
    "\\nabla^2_w \\mathcal{L}(w) &= \\ldots\n",
    "\\end{align}\n",
    "\\begin{gather*}\n",
    "\\frac{\\partial^2 \\mathcal L(w)}{\\partial \\vec w_m \\partial \\vec w_l}= -\\sum_{i=1}^N \\vec x_{i,m} \\vec x_{i,l}\\exp(\\vec w^T \\vec x_i) \\\\\n",
    "= -X^TWX \\\\\n",
    "W = diag(\\exp(X\\vec w))\n",
    "\\end{gather*}"
   ]
  },
  {
   "cell_type": "markdown",
   "metadata": {},
   "source": [
    "$\\pagebreak$"
   ]
  },
  {
   "cell_type": "markdown",
   "metadata": {
    "id": "X5fakfY8tq-2"
   },
   "source": [
    "\n",
    "## Problem 4b [Code]: Implement the Hessian\n",
    "\n",
    "Write a function to compute the Hessian of the log probability for given values of $w$ and $\\sigma^2$ and evaluate it on the training set at $w=(0, \\ldots, 0) \\in \\mathbb{R}^{P}$ and $\\sigma^2 = 1$. \n",
    "\n",
    "Visualize the Hessian with, e.g., `imshow`. Don't forget labels and a colorbar."
   ]
  },
  {
   "cell_type": "code",
   "execution_count": 7,
   "metadata": {
    "colab": {
     "base_uri": "https://localhost:8080/",
     "height": 282
    },
    "id": "zavTkSX7jdPr",
    "outputId": "308eb135-684d-4fa3-e798-2f9b707544f2"
   },
   "outputs": [
    {
     "data": {
      "image/png": "[encoded data removed]",
      "text/plain": [
       "<Figure size 432x288 with 2 Axes>"
      ]
     },
     "metadata": {
      "needs_background": "light"
     },
     "output_type": "display_data"
    }
   ],
   "source": [
    "w0 = np.zeros_like(X[0,:])\n",
    "\n",
    "def hessian(w, X=X):\n",
    "    return -X.T.dot(np.diag(np.exp(X.dot(w)))).dot(X)\n",
    "\n",
    "res = hessian(w0)\n",
    "plt.imshow(res)\n",
    "plt.xlabel('P')\n",
    "plt.ylabel('P')\n",
    "cax = plt.axes([0.85, 0.1, 0.075, 0.8])\n",
    "plt.colorbar(cax=cax)\n",
    "plt.show()"
   ]
  },
  {
   "cell_type": "markdown",
   "metadata": {},
   "source": [
    "$\\pagebreak$"
   ]
  },
  {
   "cell_type": "markdown",
   "metadata": {
    "id": "WopEXKsQytU9"
   },
   "source": [
    "\n",
    "## Problem 5: Compute the Laplace approximation\n",
    "\n",
    "This problem has two parts. See below."
   ]
  },
  {
   "cell_type": "markdown",
   "metadata": {
    "id": "lGbmGp0Y-o9K"
   },
   "source": [
    "## Problem 5a: Optimize to find the posterior mode\n",
    "Optimize the log joint probability to find the posterior mode. You may use built-in optimization libraries (e.g. `scipy.optimize.minimize`)."
   ]
  },
  {
   "cell_type": "code",
   "execution_count": 8,
   "metadata": {
    "id": "aiGmUMUX9viz"
   },
   "outputs": [
    {
     "name": "stdout",
     "output_type": "stream",
     "text": [
      "Optimization terminated successfully.\n",
      "         Current function value: 409.069536\n",
      "         Iterations: 45\n",
      "         Function evaluations: 62\n",
      "         Gradient evaluations: 62\n"
     ]
    }
   ],
   "source": [
    "from scipy.optimize import minimize\n",
    "\n",
    "def neg_log_prob(w):\n",
    "    return -log_prob(w, X=X, y=y_train, sigma2=1)\n",
    "\n",
    "def neg_gradient(w):\n",
    "    return -gradient(w, X=X, y=y_train, sigma2=1)\n",
    "\n",
    "w0 = np.zeros_like(X[0,:])\n",
    "\n",
    "res = minimize(fun=neg_log_prob,\n",
    "               x0=w0,\n",
    "               method='BFGS',\n",
    "               jac=neg_gradient,\n",
    "               options={'disp':True}\n",
    "              )"
   ]
  },
  {
   "cell_type": "code",
   "execution_count": 9,
   "metadata": {},
   "outputs": [
    {
     "data": {
      "text/plain": [
       "array([-1.98387933,  0.0191608 ,  0.13772387,  0.44424198,  1.54388212,\n",
       "        2.25596675,  0.73980468, -0.53345777, -0.52035011, -0.45324568,\n",
       "       -0.41421397, -0.24945071, -0.47640201, -0.32471356, -0.14218618,\n",
       "       -0.26219343, -0.19492631, -0.06752138, -0.13640138, -0.02965947,\n",
       "        0.1381938 , -0.0641458 ,  0.03259869, -0.01427327, -0.01652948,\n",
       "       -0.05321329])"
      ]
     },
     "execution_count": 9,
     "metadata": {},
     "output_type": "execute_result"
    }
   ],
   "source": [
    "res.x"
   ]
  },
  {
   "cell_type": "markdown",
   "metadata": {},
   "source": [
    "$\\pagebreak$"
   ]
  },
  {
   "cell_type": "markdown",
   "metadata": {
    "id": "WqpNgTDl-iWj"
   },
   "source": [
    "\n",
    "## Problem 5b: Approximate the covariance at the mode\n",
    "\n",
    "Solve for $\\Sigma_{\\mathsf{MAP}} = -[\\nabla^2(\\mathcal{L}(w_{\\mathsf{MAP}})]^{-1}$. Plot the covariance matrix (e.g. with `imshow`). Don't forget to add a colorbar and labels."
   ]
  },
  {
   "cell_type": "code",
   "execution_count": 10,
   "metadata": {
    "colab": {
     "base_uri": "https://localhost:8080/",
     "height": 282
    },
    "id": "t4zcvcy--hrv",
    "outputId": "2ab4e177-1f7d-4b57-d30b-992fc62bc14e"
   },
   "outputs": [
    {
     "data": {
      "image/png": "[encoded data removed]",
      "text/plain": [
       "<Figure size 432x288 with 2 Axes>"
      ]
     },
     "metadata": {
      "needs_background": "light"
     },
     "output_type": "display_data"
    }
   ],
   "source": [
    "plt.imshow(res.hess_inv)\n",
    "plt.xlabel('P')\n",
    "plt.ylabel('P')\n",
    "cax = plt.axes([0.85, 0.1, 0.075, 0.8])\n",
    "plt.colorbar(cax=cax)\n",
    "plt.show()"
   ]
  },
  {
   "cell_type": "markdown",
   "metadata": {},
   "source": [
    "$\\pagebreak$"
   ]
  },
  {
   "cell_type": "markdown",
   "metadata": {
    "id": "bD7z6727zr5j"
   },
   "source": [
    "## Problem 6: Plot the posterior of the weights\n",
    "Plot the posterior mean of the weights for features $s_n, \\ldots, s_{n-L+1}$ (i.e. not including the bias term). Also plot 95% credible intervals around the mean by using two standard deviations of the marginal distribution of the weights. Note the diagonal of $\\Sigma_{\\mathsf{MAP}}$ gives the marginal variance of the posterior. "
   ]
  },
  {
   "cell_type": "code",
   "execution_count": 11,
   "metadata": {
    "colab": {
     "base_uri": "https://localhost:8080/",
     "height": 297
    },
    "id": "1nQidaIq-KSy",
    "outputId": "16f09239-c837-429b-ffe9-7cced0931ce2"
   },
   "outputs": [
    {
     "data": {
      "image/png": "[encoded data removed]",
      "text/plain": [
       "<Figure size 432x288 with 1 Axes>"
      ]
     },
     "metadata": {
      "needs_background": "light"
     },
     "output_type": "display_data"
    }
   ],
   "source": [
    "w_map = res.x[1:]\n",
    "sd = np.sqrt(np.diag(res.hess_inv))[1:]\n",
    "plt.axhline(0, linestyle='--', color='g', linewidth=.5)\n",
    "plt.errorbar(x=np.arange(1, 26),\n",
    "             y=w_map,\n",
    "             yerr=2*sd, # assumes symmetric errors \n",
    "             markersize=8,\n",
    "             linewidth=2,\n",
    "             fmt='b.',\n",
    "             ecolor='r',\n",
    "             capsize=4,\n",
    "             )\n",
    "plt.xlabel(r'$P$')\n",
    "plt.ylabel('Posterior Mean w/ 95% Credible Interval')\n",
    "plt.show()"
   ]
  },
  {
   "cell_type": "markdown",
   "metadata": {},
   "source": [
    "$\\pagebreak$"
   ]
  },
  {
   "cell_type": "markdown",
   "metadata": {
    "id": "dvlVJ7KR4UoF"
   },
   "source": [
    "## Problem 7 [Short Answer]: Interpret your results\n",
    "\n",
    "Here, the neurons are cells from the retina, which are responsive to light. The stimulus at time bin $n$ is either -0.5 or +0.5 depending on whether a light was off or on, respectively, at that time. What do these weights tell you about the relationship between the stimulus and the spike counts? \n",
    "\n",
    "_Answer below this line_  \n",
    "\n",
    "---\n",
    "The weights observed in Problem (6) show that the response (spike count) has a signficant relationship with lagged covariates (stimlus) that happened between 3-13 bins in the past (5 is on the brink of significance). Lags 3-6 have a positive relationship with the response and lags 7-13 have a negative relationship. Lagged covariates at all other time lags  include $\\vec w_i=0$ in their 95% credible intervals making them insignificant. So at first, the spike counts go up with recent observations (3-6) and then are negatively correlated with more distant lags (7-13) until there is no affect at all (13-25)."
   ]
  },
  {
   "cell_type": "markdown",
   "metadata": {},
   "source": [
    "$\\pagebreak$"
   ]
  },
  {
   "cell_type": "markdown",
   "metadata": {
    "id": "zeBH-7geUXwl"
   },
   "source": [
    "\n",
    "## Problem 8: Approximate the posterior predictive distribution of the rates\n",
    "\n",
    "Draw many samples $w^{(s)}$ from the Laplace approximation of the posterior $p(w \\mid \\{x_n, y_n\\})$.  Use those samples to approximate the posterior predictive distribution on the **test** dataset,\n",
    "\\begin{align}\n",
    "p(y_{n'}=k \\mid x_{n'}, \\{x_n, y_n\\}_{n=1}^N) &= \n",
    "\\int p(y_{n'} \\mid w, x_{n'}) \\, p(w \\mid \\{x_n, y_n\\}_{n=1}^N) \\, \\mathrm{d} w \\\\\n",
    "&\\approx \\frac{1}{S} \\sum_{s=1}^S p(y_{n'}=k \\mid w^{(s)}, x_{n'})\n",
    "\\end{align}\n",
    "where\n",
    "\\begin{align}\n",
    "w^{(s)} &\\sim p(w \\mid \\{x_n, y_n\\}_{n=1}^N \\\\\n",
    "&\\approx \\mathcal{N}(w \\mid w_{\\mathsf{MAP}}, \\Sigma_{\\mathsf{MAP}})\n",
    "\\end{align}\n",
    "\n",
    "Visualize the posterior predictive distribution as an $K \\times N_{\\mathsf{test}}$ array where row corresponds to possible spike counts $k\\in \\{0,\\ldots, K\\}$. You can set $K=5$ for this problem. **Only show the first 100 columns (time bins), otherwise it's hard to see changes in the rate.**\n",
    "\n",
    "Overlay the actual spike counts for the test dataset. "
   ]
  },
  {
   "cell_type": "code",
   "execution_count": 12,
   "metadata": {},
   "outputs": [
    {
     "data": {
      "text/plain": [
       "(1000, 26)"
      ]
     },
     "execution_count": 12,
     "metadata": {},
     "output_type": "execute_result"
    }
   ],
   "source": [
    "L = 25\n",
    "padded = np.pad(stim_test, (L-1, 0), 'constant', constant_values=(0, 0))\n",
    "X_test = np.lib.stride_tricks.sliding_window_view(padded, 25)\n",
    "X_test = np.flip(X_test, axis=1)\n",
    "X_test = np.pad(X_test, ((0, 0), (1, 0)), 'constant', constant_values = 1)\n",
    "N, P = X_test.shape\n",
    "N, P"
   ]
  },
  {
   "cell_type": "code",
   "execution_count": 99,
   "metadata": {},
   "outputs": [
    {
     "data": {
      "text/plain": [
       "(6, 1000)"
      ]
     },
     "execution_count": 99,
     "metadata": {},
     "output_type": "execute_result"
    }
   ],
   "source": [
    "from scipy.stats import poisson\n",
    "S=1000\n",
    "K=5\n",
    "W = np.random.multivariate_normal(res.x, res.hess_inv, S)\n",
    "rate = np.exp(X_test.dot(W.T))\n",
    "post_pred_dist = np.array([np.mean(poisson.pmf(i, rate), axis=1) for i in range(0, K+1)])\n",
    "post_pred_dist.shape"
   ]
  },
  {
   "cell_type": "code",
   "execution_count": 100,
   "metadata": {},
   "outputs": [
    {
     "data": {
      "image/png": "[encoded data removed]",
      "text/plain": [
       "<Figure size 1080x1440 with 2 Axes>"
      ]
     },
     "metadata": {
      "needs_background": "light"
     },
     "output_type": "display_data"
    }
   ],
   "source": [
    "from mpl_toolkits.axes_grid1 import make_axes_locatable\n",
    "T_MAX = 100\n",
    "fig, ax = plt.subplots()\n",
    "fig.set_figheight(20)\n",
    "fig.set_figwidth(15)\n",
    "plt.imshow(post_pred_dist[:, 0:T_MAX])\n",
    "plt.xlabel('t')\n",
    "plt.ylabel('k')\n",
    "plt.plot(y_test[0:T_MAX], 'r--', label='Obs. Spike Count')\n",
    "plt.legend(loc='upper left', bbox_to_anchor=(0, 1.6))\n",
    "plt.gca().invert_yaxis()\n",
    "divider = make_axes_locatable(ax)\n",
    "cax = divider.append_axes(\"bottom\", size=\"30%\", pad=.9)\n",
    "plt.colorbar(cax=cax, label='Posterior Predictive Distribution', orientation='horizontal')\n",
    "plt.show()"
   ]
  },
  {
   "cell_type": "markdown",
   "metadata": {},
   "source": [
    "$\\pagebreak$"
   ]
  },
  {
   "cell_type": "markdown",
   "metadata": {
    "id": "QOISJfBYqWHs"
   },
   "source": [
    "## Problem 9: Compute the log predictive density\n",
    "\n",
    "Simulate from the posterior distribution to compute a Monte Carlo approximation to what the book calls the _log pointwise predictive density_ (Eq. 7.4). \n",
    "\\begin{align}\n",
    "\\sum_{n'=1}^{N_{\\mathsf{test}}} \\log p(y_{n'} \\mid x_{n'}, \\{x_n, y_n\\}_{n=1}^N ) \n",
    "&= \n",
    "\\sum_{n'=1}^{N_{\\mathsf{test}}} \\log \\int p(y_{n'} \\mid w, x_{n'}) \\, p(w \\mid \\{x_n, y_n\\}_{n=1}^N) \\, \\mathrm{d} w \\\\\n",
    "&\\approx \\sum_{n'=1}^{N_{\\mathsf{test}}} \\log \\frac{1}{S} \\sum_{s=1}^S p(y_{n'}=k \\mid w^{(s)}, x_{n'})\n",
    "\\end{align}\n",
    "where\n",
    "\\begin{align}\n",
    "w^{(s)} &\\sim p(w \\mid \\{x_n, y_n\\}_{n=1}^N) \\\\\n",
    "&\\approx \\mathcal{N}(w \\mid w_{\\mathsf{MAP}}, \\Sigma_{\\mathsf{MAP}})\n",
    "\\end{align}\n",
    "Use $S=1000$ Monte Carlo samples and **print your result**.\n",
    "\n",
    "_Note_: The book recommends a more fully Bayesian approach in which they compute the log pointwise predictive density for one data point at a time, using the remainder to compute the posterior distribution on the weights. For simplicity, we will stick with a single training and test split, as given in the dataset above."
   ]
  },
  {
   "cell_type": "code",
   "execution_count": 101,
   "metadata": {
    "colab": {
     "base_uri": "https://localhost:8080/"
    },
    "id": "rDqAuh_Crk3L",
    "outputId": "155ca6b8-914a-4fc0-dc71-c1f780f10da1"
   },
   "outputs": [
    {
     "data": {
      "text/plain": [
       "array([  -346.73138469,  -2329.49446152,  -4930.11305215,  -7861.12125928,\n",
       "       -11005.24205395, -14298.91543296])"
      ]
     },
     "execution_count": 101,
     "metadata": {},
     "output_type": "execute_result"
    }
   ],
   "source": [
    "# Is this done over k={0,..., 5} as well?\n",
    "np.sum(np.log(post_pred_dist), axis=1)"
   ]
  },
  {
   "cell_type": "code",
   "execution_count": 102,
   "metadata": {},
   "outputs": [
    {
     "data": {
      "text/plain": [
       "-532.4862178064614"
      ]
     },
     "execution_count": 102,
     "metadata": {},
     "output_type": "execute_result"
    }
   ],
   "source": [
    "# Answer taken over y_test\n",
    "y_test = np.expand_dims(y_test, 1)\n",
    "np.sum(np.log(np.mean(poisson.pmf(y_test, rate), axis=1)))"
   ]
  },
  {
   "cell_type": "markdown",
   "metadata": {},
   "source": [
    "$\\pagebreak$"
   ]
  },
  {
   "cell_type": "markdown",
   "metadata": {
    "id": "Yus6_Zkxu9S9"
   },
   "source": [
    "\n",
    "## Submission Instructions\n",
    "**Formatting:** check that your code does not exceed 80 characters in line width. If you're working in Colab, you can set Tools → Settings → Editor → Vertical ruler column to 80 to see when you've exceeded the limit.\n",
    "\n",
    "Download your notebook in .ipynb format and use the following commands to convert it to PDF:\n",
    "\n",
    "jupyter nbconvert --to pdf hw2_yourname.ipynb\n",
    "\n",
    "**Dependencies:**\n",
    "\n",
    "nbconvert: If you're using Anaconda for package management,\n",
    "conda install -c anaconda nbconvert\n",
    "\n",
    "**Upload** your .ipynb and .pdf files to Gradescope."
   ]
  }
 ],
 "metadata": {
  "anaconda-cloud": {},
  "colab": {
   "collapsed_sections": [],
   "name": "HW2_PoissonGLM.ipynb",
   "provenance": []
  },
  "kernelspec": {
   "display_name": "Python 3",
   "language": "python",
   "name": "python3"
  },
  "language_info": {
   "codemirror_mode": {
    "name": "ipython",
    "version": 3
   },
   "file_extension": ".py",
   "mimetype": "text/x-python",
   "name": "python",
   "nbconvert_exporter": "python",
   "pygments_lexer": "ipython3",
   "version": "3.8.5"
  },
  "toc-autonumbering": true,
  "toc-showcode": true,
  "toc-showmarkdowntxt": true
 },
 "nbformat": 4,
 "nbformat_minor": 4
}
