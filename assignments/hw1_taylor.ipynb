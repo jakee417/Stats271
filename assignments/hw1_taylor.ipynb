{
 "cells": [
  {
   "cell_type": "markdown",
   "metadata": {
    "id": "IoYdLutn7dUa"
   },
   "source": [
    "# HW1: Bayesian Linear Regression\n",
    "\n",
    "\n",
    "**STATS271/371: Applied Bayesian Statistics**\n",
    "\n",
    "_Stanford University. Winter, 2021._\n",
    "\n",
    "---\n",
    "\n",
    "**Name:** Jake Taylor\n",
    "\n",
    "**Names of any collaborators:** _Names here_\n",
    "\n",
    "*Due: 11:59pm Friday, April 9, 2021 via GradeScope*\n",
    "\n",
    "---\n",
    "\n",
    "In this homework assignment you'll perform a Bayesian linear regression. As a quick recap of lecture, we have the following notation:\n",
    "\n",
    "- Data:\n",
    " - $\\mathbf{x}_n \\in \\mathbb{R}^P$ feature/covariates for the $n$-th datapoint\n",
    " - $y_n \\in \\mathbb{R}$ observation for the $n$-th datapoint\n",
    "- Parameters:\n",
    " - $\\mathbf{w} \\in \\mathbb{R}^P$  weights\n",
    " - $\\sigma^2$ observation/noise variance\n",
    "- Hyperparameters\n",
    " - $\\nu, \\tau^2$, degrees of freedom and scaling parameter of the inverse chi-squared prior on variance\n",
    " - $\\boldsymbol{\\mu} \\in \\mathbb{R}^P$ mean vector\n",
    " - $\\mathbf{\\Lambda} \\in \\mathbb{R}_{\\succ 0}^{P \\times P}$ positive definite precision matrix\n",
    "\n",
    "The probabilistic model is as follows,\n",
    "\\begin{align}\n",
    "p( \\{y_n \\}_{n=1}^N, \\mathbf{w}, \\sigma^2 \\mid \\{\\mathbf{x}_n\\}_{n=1}^N) \n",
    "&= p(\\mathbf{w}, \\sigma^2) \\prod_{n=1}^N p(y_n \\mid \\mathbf{w}, \\sigma^2, \\mathbf{x}_n) \\\\\n",
    "&= \\mathrm{Inv-}\\chi^2(\\sigma^2 \\mid \\nu, \\tau^2) \\, \\mathcal{N}(\\mathbf{w} \\mid \\boldsymbol{\\mu}, \\sigma^2 \\mathbf{\\Lambda}^{-1}) \n",
    "\\prod_{n=1}^N \\mathcal{N}(y_n \\mid \\mathbf{w}^\\top \\mathbf{x}_n, \\sigma^2).\n",
    "\\end{align}\n",
    "\n",
    "Under this model, the posterior distribution $p(\\mathbf{w}, \\sigma^2 \\mid \\{y_n, \\mathbf{x}_n\\}_{n=1}^N)$ is available in closed form, as the prior is conjugate to the likelihood.\n",
    "\n",
    "Follow the instructions below to compute the posterior distribution and perform the specified analyses. Specifically, we will be performing polynomial regression and recreating plots per the slides of **Lap 1: Bayesian Linear Regression**"
   ]
  },
  {
   "cell_type": "code",
   "execution_count": 1,
   "metadata": {},
   "outputs": [
    {
     "name": "stdout",
     "output_type": "stream",
     "text": [
      "File ‘hw1.csv’ already there; not retrieving.\r\n",
      "\r\n"
     ]
    }
   ],
   "source": [
    "!wget -nc https://raw.githubusercontent.com/slinderman/stats271sp2021/main/assignments/hw1.csv"
   ]
  },
  {
   "cell_type": "code",
   "execution_count": 2,
   "metadata": {},
   "outputs": [
    {
     "data": {
      "text/html": [
       "<div>\n",
       "<style scoped>\n",
       "    .dataframe tbody tr th:only-of-type {\n",
       "        vertical-align: middle;\n",
       "    }\n",
       "\n",
       "    .dataframe tbody tr th {\n",
       "        vertical-align: top;\n",
       "    }\n",
       "\n",
       "    .dataframe thead th {\n",
       "        text-align: right;\n",
       "    }\n",
       "</style>\n",
       "<table border=\"1\" class=\"dataframe\">\n",
       "  <thead>\n",
       "    <tr style=\"text-align: right;\">\n",
       "      <th></th>\n",
       "      <th>us</th>\n",
       "      <th>ys</th>\n",
       "    </tr>\n",
       "  </thead>\n",
       "  <tbody>\n",
       "    <tr>\n",
       "      <th>0</th>\n",
       "      <td>1.764052</td>\n",
       "      <td>0.930890</td>\n",
       "    </tr>\n",
       "    <tr>\n",
       "      <th>1</th>\n",
       "      <td>0.400157</td>\n",
       "      <td>0.147197</td>\n",
       "    </tr>\n",
       "    <tr>\n",
       "      <th>2</th>\n",
       "      <td>0.978738</td>\n",
       "      <td>-0.123841</td>\n",
       "    </tr>\n",
       "    <tr>\n",
       "      <th>3</th>\n",
       "      <td>2.240893</td>\n",
       "      <td>1.397427</td>\n",
       "    </tr>\n",
       "    <tr>\n",
       "      <th>4</th>\n",
       "      <td>1.867558</td>\n",
       "      <td>0.440510</td>\n",
       "    </tr>\n",
       "    <tr>\n",
       "      <th>5</th>\n",
       "      <td>-0.977278</td>\n",
       "      <td>-3.253773</td>\n",
       "    </tr>\n",
       "    <tr>\n",
       "      <th>6</th>\n",
       "      <td>0.950088</td>\n",
       "      <td>0.276898</td>\n",
       "    </tr>\n",
       "    <tr>\n",
       "      <th>7</th>\n",
       "      <td>-0.151357</td>\n",
       "      <td>-0.719139</td>\n",
       "    </tr>\n",
       "    <tr>\n",
       "      <th>8</th>\n",
       "      <td>-0.103219</td>\n",
       "      <td>-1.474301</td>\n",
       "    </tr>\n",
       "    <tr>\n",
       "      <th>9</th>\n",
       "      <td>0.410598</td>\n",
       "      <td>0.545476</td>\n",
       "    </tr>\n",
       "    <tr>\n",
       "      <th>10</th>\n",
       "      <td>0.144044</td>\n",
       "      <td>-1.583139</td>\n",
       "    </tr>\n",
       "    <tr>\n",
       "      <th>11</th>\n",
       "      <td>1.454273</td>\n",
       "      <td>0.477153</td>\n",
       "    </tr>\n",
       "    <tr>\n",
       "      <th>12</th>\n",
       "      <td>0.761038</td>\n",
       "      <td>-0.332554</td>\n",
       "    </tr>\n",
       "    <tr>\n",
       "      <th>13</th>\n",
       "      <td>0.121675</td>\n",
       "      <td>-0.111935</td>\n",
       "    </tr>\n",
       "    <tr>\n",
       "      <th>14</th>\n",
       "      <td>0.443863</td>\n",
       "      <td>0.178543</td>\n",
       "    </tr>\n",
       "  </tbody>\n",
       "</table>\n",
       "</div>"
      ],
      "text/plain": [
       "          us        ys\n",
       "0   1.764052  0.930890\n",
       "1   0.400157  0.147197\n",
       "2   0.978738 -0.123841\n",
       "3   2.240893  1.397427\n",
       "4   1.867558  0.440510\n",
       "5  -0.977278 -3.253773\n",
       "6   0.950088  0.276898\n",
       "7  -0.151357 -0.719139\n",
       "8  -0.103219 -1.474301\n",
       "9   0.410598  0.545476\n",
       "10  0.144044 -1.583139\n",
       "11  1.454273  0.477153\n",
       "12  0.761038 -0.332554\n",
       "13  0.121675 -0.111935\n",
       "14  0.443863  0.178543"
      ]
     },
     "execution_count": 2,
     "metadata": {},
     "output_type": "execute_result"
    }
   ],
   "source": [
    "import pandas as pd\n",
    "df = pd.read_csv('hw1.csv')\n",
    "df"
   ]
  },
  {
   "cell_type": "markdown",
   "metadata": {},
   "source": [
    "$\\pagebreak$"
   ]
  },
  {
   "cell_type": "markdown",
   "metadata": {
    "id": "RK9HU0boZxD0"
   },
   "source": [
    "## Problem 1: Plot the data\n",
    "\n",
    "Recreate the plot from page 7 of the slides"
   ]
  },
  {
   "cell_type": "code",
   "execution_count": 3,
   "metadata": {
    "id": "gm2TLeKqDRdx"
   },
   "outputs": [
    {
     "data": {
      "image/png": "[encoded data removed]",
      "text/plain": [
       "<Figure size 432x288 with 1 Axes>"
      ]
     },
     "metadata": {
      "needs_background": "light"
     },
     "output_type": "display_data"
    }
   ],
   "source": [
    "from matplotlib import pyplot as plt\n",
    "plt.scatter(x=df.us, y=df.ys)\n",
    "plt.xlabel(\"u\")\n",
    "plt.ylabel(\"y\")\n",
    "plt.show()"
   ]
  },
  {
   "cell_type": "markdown",
   "metadata": {},
   "source": [
    "$\\pagebreak$"
   ]
  },
  {
   "cell_type": "markdown",
   "metadata": {
    "id": "m-CvgtlRZ3dd"
   },
   "source": [
    "## Problem 2: Compute and print the sufficient statistics of the data\n",
    "\n",
    "Using covariates for a polynomial regression of degree 1 (letting the features $\\mathbf{x}_n = (1, u_n)^\\top$, calculate and print out the sufficient statistics (per slide 8)."
   ]
  },
  {
   "cell_type": "code",
   "execution_count": 4,
   "metadata": {},
   "outputs": [],
   "source": [
    "# Polynomial Basis Expansion\n",
    "def basis(x, power):\n",
    "    x = np.array(x)\n",
    "    n = len(x)\n",
    "    X = np.ones((n, 1))\n",
    "    for p in range(1, power+1):\n",
    "        temp = np.power(x, p).reshape(n,1)\n",
    "        X = np.hstack((X, temp))\n",
    "    return X"
   ]
  },
  {
   "cell_type": "code",
   "execution_count": 5,
   "metadata": {},
   "outputs": [
    {
     "name": "stdout",
     "output_type": "stream",
     "text": [
      "(15, 1) (15, 2)\n"
     ]
    }
   ],
   "source": [
    "import numpy as np\n",
    "n, _ = df.shape\n",
    "X = basis(df.us, 1)\n",
    "y = np.array(df.ys).reshape(n, 1)\n",
    "print(y.shape, X.shape)"
   ]
  },
  {
   "cell_type": "code",
   "execution_count": 6,
   "metadata": {
    "id": "Vp0ZS99pDdBO"
   },
   "outputs": [
    {
     "name": "stdout",
     "output_type": "stream",
     "text": [
      "The sufficient statistics of the data are:\n"
     ]
    }
   ],
   "source": [
    "y_2 = np.sum(np.power(y, 2))\n",
    "yx = np.sum(y * X, axis = 0)\n",
    "xx = X.T.dot(X)\n",
    "print(f\"The sufficient statistics of the data are:\")"
   ]
  },
  {
   "cell_type": "markdown",
   "metadata": {},
   "source": [
    "$\\sum_{n = 1}^N y_n^2$"
   ]
  },
  {
   "cell_type": "code",
   "execution_count": 7,
   "metadata": {},
   "outputs": [
    {
     "name": "stdout",
     "output_type": "stream",
     "text": [
      "19.591393805106204\n"
     ]
    }
   ],
   "source": [
    "print(f\"{y_2}\")"
   ]
  },
  {
   "cell_type": "markdown",
   "metadata": {},
   "source": [
    "$\\sum_{n = 1}^Ny_n \\pmb x_n$"
   ]
  },
  {
   "cell_type": "code",
   "execution_count": 8,
   "metadata": {},
   "outputs": [
    {
     "name": "stdout",
     "output_type": "stream",
     "text": [
      "[-3.204591    9.74031843]\n"
     ]
    }
   ],
   "source": [
    "print(f\"{yx}\")"
   ]
  },
  {
   "cell_type": "markdown",
   "metadata": {},
   "source": [
    "$\\sum_{n = 1}^N\\pmb x_n\\pmb x_n^T$"
   ]
  },
  {
   "cell_type": "code",
   "execution_count": 9,
   "metadata": {},
   "outputs": [
    {
     "name": "stdout",
     "output_type": "stream",
     "text": [
      "[[15.         10.3051246 ]\n",
      " [10.3051246  17.72586162]]\n"
     ]
    }
   ],
   "source": [
    "print(f\"{xx}\")"
   ]
  },
  {
   "cell_type": "markdown",
   "metadata": {},
   "source": [
    "$\\pagebreak$"
   ]
  },
  {
   "cell_type": "markdown",
   "metadata": {
    "id": "PkVds8POaOL-"
   },
   "source": [
    "## Problem 3: Compute and print the posterior parameters $\\nu'$, $\\tau'^2$, $\\boldsymbol{\\mu}'$, and $\\mathbf{\\Lambda}'$\n",
    "\n",
    "Assume that our prior parameters $\\nu = \\tau^2 = \\boldsymbol{\\mu} = \\mathbf{\\Lambda} = 0$. "
   ]
  },
  {
   "cell_type": "code",
   "execution_count": 10,
   "metadata": {
    "id": "rbxyvkTrEKPM"
   },
   "outputs": [],
   "source": [
    "from numpy.linalg import inv\n",
    "lambda_ = xx\n",
    "nu_ = n\n",
    "mu_ = inv(lambda_).dot(yx)\n",
    "tau2_ = (1/nu_) * (y_2 - mu_.T.dot(lambda_).dot(mu_))"
   ]
  },
  {
   "cell_type": "markdown",
   "metadata": {},
   "source": [
    "$\\Lambda'$"
   ]
  },
  {
   "cell_type": "code",
   "execution_count": 11,
   "metadata": {},
   "outputs": [
    {
     "name": "stdout",
     "output_type": "stream",
     "text": [
      "[[15.         10.3051246 ]\n",
      " [10.3051246  17.72586162]]\n"
     ]
    }
   ],
   "source": [
    "print(f'{lambda_}')"
   ]
  },
  {
   "cell_type": "markdown",
   "metadata": {},
   "source": [
    "$\\nu'$"
   ]
  },
  {
   "cell_type": "code",
   "execution_count": 12,
   "metadata": {},
   "outputs": [
    {
     "name": "stdout",
     "output_type": "stream",
     "text": [
      "15\n"
     ]
    }
   ],
   "source": [
    "print(f'{nu_}')"
   ]
  },
  {
   "cell_type": "markdown",
   "metadata": {},
   "source": [
    "$\\mu'$"
   ]
  },
  {
   "cell_type": "code",
   "execution_count": 13,
   "metadata": {},
   "outputs": [
    {
     "name": "stdout",
     "output_type": "stream",
     "text": [
      "[-0.98426349  1.12171001]\n"
     ]
    }
   ],
   "source": [
    "print(f'{mu_}')"
   ]
  },
  {
   "cell_type": "markdown",
   "metadata": {},
   "source": [
    "$\\tau'^2$"
   ]
  },
  {
   "cell_type": "code",
   "execution_count": 14,
   "metadata": {},
   "outputs": [
    {
     "name": "stdout",
     "output_type": "stream",
     "text": [
      "0.36742794840057136\n"
     ]
    }
   ],
   "source": [
    "print(f'{tau2_}')"
   ]
  },
  {
   "cell_type": "markdown",
   "metadata": {},
   "source": [
    "$\\pagebreak$"
   ]
  },
  {
   "cell_type": "markdown",
   "metadata": {
    "id": "kZe-Wi1wagt9"
   },
   "source": [
    "## Problem 4a: Plot the posterior of $\\sigma^2$\n",
    "\n",
    "(Recreate the plot from slide 25)"
   ]
  },
  {
   "cell_type": "markdown",
   "metadata": {},
   "source": [
    "$X \\sim Scale-inv-\\chi^2(\\nu, \\tau^2) \\implies X \\sim Inv-Gamma(\\frac{\\nu}{2}, \\frac{\\nu\\tau^2}{2})$"
   ]
  },
  {
   "cell_type": "code",
   "execution_count": 15,
   "metadata": {},
   "outputs": [],
   "source": [
    "from scipy.special import gamma\n",
    "\n",
    "# Inverse Gamma Distribution\n",
    "def inv_gamma(x, alpha, beta):\n",
    "    return (np.power(alpha, beta) / gamma(alpha)) * np.power((1 / x), alpha + 1) * np.exp(-beta / x)"
   ]
  },
  {
   "cell_type": "code",
   "execution_count": 16,
   "metadata": {},
   "outputs": [
    {
     "data": {
      "image/png": "[encoded data removed]",
      "text/plain": [
       "<Figure size 432x288 with 1 Axes>"
      ]
     },
     "metadata": {
      "needs_background": "light"
     },
     "output_type": "display_data"
    }
   ],
   "source": [
    "alpha = nu_ / 2\n",
    "beta = nu_*tau2_ / 2\n",
    "sigma = np.linspace(0.0001, 1, num=100)\n",
    "pdf = inv_gamma(sigma, alpha, beta)\n",
    "plt.plot(sigma, pdf)\n",
    "plt.axvline(x=0.25, ls = '--', color='r', label = r'$\\sigma_{true}^2$')\n",
    "plt.ylabel(r\"$p(\\sigma^2|\\{y_n, x_n\\}_{n = 1}^N)$\")\n",
    "plt.xlabel(r\"$\\sigma^2$\")\n",
    "plt.legend()\n",
    "plt.show()"
   ]
  },
  {
   "cell_type": "markdown",
   "metadata": {},
   "source": [
    "$\\pagebreak$"
   ]
  },
  {
   "cell_type": "markdown",
   "metadata": {
    "id": "Rz9qrojPaneT"
   },
   "source": [
    "## Problem 4b: Plot the posterior of $\\mathbf{w}$ for $\\sigma^2 \\in \\{0.2, 0.4, 0.6\\}$\n",
    "\n",
    "(Recreate the figures from slide 26)\n"
   ]
  },
  {
   "cell_type": "code",
   "execution_count": 17,
   "metadata": {
    "id": "qfy0cz-JGdye"
   },
   "outputs": [
    {
     "data": {
      "image/png": "[encoded data removed]",
      "text/plain": [
       "<Figure size 1008x288 with 3 Axes>"
      ]
     },
     "metadata": {
      "needs_background": "light"
     },
     "output_type": "display_data"
    }
   ],
   "source": [
    "from scipy.stats import multivariate_normal\n",
    "sigmas2 = [0.2, 0.4, 0.6]\n",
    "w0, w1 = np.mgrid[-1.5:-0.5:.01, 0.5:1.5:.01]\n",
    "pos = np.dstack((w0, w1))\n",
    "fig, axs = plt.subplots(1, 3, figsize = (14, 4))\n",
    "\n",
    "for ax, sigma2 in zip(axs, sigmas2):\n",
    "    rv = multivariate_normal(mu_, sigma2 * inv(lambda_))\n",
    "    ax.contourf(w0, w1, rv.pdf(pos))\n",
    "    ax.plot(-1,1, marker='*', color = 'r')\n",
    "    ax.set_title(r'$p(w|\\{x_n, y_n\\}_{n=1}^N, \\sigma^2 = $' + f'{sigma2}' + ')')\n",
    "    ax.set(xlabel=r'$w_0$', ylabel=r'$w_1$')"
   ]
  },
  {
   "cell_type": "markdown",
   "metadata": {},
   "source": [
    "$\\pagebreak$"
   ]
  },
  {
   "cell_type": "markdown",
   "metadata": {
    "id": "QjZ1j5A_awNc"
   },
   "source": [
    "## Problem 5: Compute the log marginal likelihood $p(\\{y_n\\} | \\{\\mathbf{x}_n\\})$\n",
    "\n",
    "Compare the log marginal likelihood with covariates $x_n = (u_n^0, \\ldots, u_n^{P-1})$ for $P=0,\\ldots,4$. Use the following prior parameters:\n",
    "- $\\nu = 0.01$\n",
    "- $\\tau^2 = 0.01$\n",
    "- $\\mathbf{\\mu} = (0, \\ldots, 0)^\\top$\n",
    "- $\\mathbf{\\Lambda} = 0.01 I$\n",
    "\n",
    "To recapitulate the plot (slide 33) from lecture, divide the marginal likelihood by $N$ to get the average log marginal likelihood per datapoint."
   ]
  },
  {
   "cell_type": "code",
   "execution_count": 18,
   "metadata": {},
   "outputs": [],
   "source": [
    "from math import pi\n",
    "from numpy.linalg import det\n",
    "\n",
    "def marginal_likelihood(X, y):\n",
    "    N, p = X.shape\n",
    "    nu = 0.01 \n",
    "    tau2 = 0.01\n",
    "    mu = np.zeros(p)\n",
    "    _lambda = 0.01 * np.identity(p)\n",
    "    \n",
    "    # Compute suff. statistics\n",
    "    y_2 = np.sum(np.power(y, 2))\n",
    "    yx = np.sum(y * X, axis = 0)\n",
    "    xx = X.T.dot(X)\n",
    "    \n",
    "    # Update params\n",
    "    lambda_ = _lambda + xx\n",
    "    nu_ = nu + N\n",
    "    mu_ = inv(lambda_).dot(_lambda.dot(mu) + yx)\n",
    "    tau2_ = ((1/nu_) * (nu * tau2 \n",
    "                        + mu.T.dot(_lambda).dot(mu) \n",
    "                        + y_2 \n",
    "                        - mu_.T.dot(lambda_).dot(mu_)))\n",
    "    \n",
    "    # Marginal log likelihood\n",
    "    num = np.log(gamma(nu_ / 2)) + nu * np.log(tau2 * nu / 2) / 2 + np.log(det(_lambda)) / 2\n",
    "    denom = np.log(gamma(nu / 2)) + nu_ * np.log(tau2_ * nu_ / 2) / 2 + np.log(det(lambda_)) / 2\n",
    "    return (-N * np.log(2 * pi) / 2 + num - denom) / N"
   ]
  },
  {
   "cell_type": "code",
   "execution_count": 19,
   "metadata": {},
   "outputs": [
    {
     "data": {
      "image/png": "[encoded data removed]",
      "text/plain": [
       "<Figure size 432x288 with 1 Axes>"
      ]
     },
     "metadata": {
      "needs_background": "light"
     },
     "output_type": "display_data"
    }
   ],
   "source": [
    "ll = []\n",
    "for p in range(5):\n",
    "    X = basis(df.us, p)\n",
    "    ll.append(marginal_likelihood(X, y))\n",
    "plt.plot(range(5), ll, marker='o')\n",
    "plt.title(r'$\\frac{1}{N}\\log{p(\\{y_n\\}|\\{x_n\\}, \\nu=0.01, \\tau^2=0.01, \\Lambda=0.01 I_p)}$')\n",
    "plt.ylabel('avg. log marginal likelihood')\n",
    "plt.xlabel('degree')\n",
    "plt.show()"
   ]
  },
  {
   "cell_type": "markdown",
   "metadata": {},
   "source": [
    "$\\pagebreak$"
   ]
  },
  {
   "cell_type": "markdown",
   "metadata": {
    "id": "_OnB5kf-k7B0"
   },
   "source": [
    "# Submission Instructions\n",
    "\n",
    "\n",
    "**Formatting:** check that your code does not exceed 80 characters in line width. If you're working in Colab, you can set _Tools &rarr; Settings &rarr; Editor &rarr; Vertical ruler column_ to 80 to see when you've exceeded the limit. \n",
    "\n",
    "Download your notebook in .ipynb format and use the following commands to convert it to PDF:\n",
    "```\n",
    "jupyter nbconvert --to pdf hw1_yourname.ipynb\n",
    "```\n",
    "\n",
    "**Dependencies:**\n",
    "\n",
    "- `nbconvert`: If you're using Anaconda for package management, \n",
    "```\n",
    "conda install -c anaconda nbconvert\n",
    "```\n",
    "\n",
    "**Upload** your .ipynb and .pdf files to Gradescope. \n"
   ]
  }
 ],
 "metadata": {
  "colab": {
   "collapsed_sections": [],
   "name": "Copy of STATS271 HW1: Bayesian Linear Regression.ipynb",
   "provenance": []
  },
  "kernelspec": {
   "display_name": "Python 3",
   "language": "python",
   "name": "python3"
  },
  "language_info": {
   "codemirror_mode": {
    "name": "ipython",
    "version": 3
   },
   "file_extension": ".py",
   "mimetype": "text/x-python",
   "name": "python",
   "nbconvert_exporter": "python",
   "pygments_lexer": "ipython3",
   "version": "3.6.13"
  }
 },
 "nbformat": 4,
 "nbformat_minor": 4
}
