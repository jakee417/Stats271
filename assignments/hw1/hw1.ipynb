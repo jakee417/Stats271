{
 "cells": [
  {
   "cell_type": "markdown",
   "metadata": {
    "id": "IoYdLutn7dUa"
   },
   "source": [
    "# HW1: Bayesian Linear Regression\n",
    "\n",
    "\n",
    "**STATS271/371: Applied Bayesian Statistics**\n",
    "\n",
    "_Stanford University. Winter, 2021._\n",
    "\n",
    "---\n",
    "\n",
    "**Name:** _Your name here_\n",
    "\n",
    "**Names of any collaborators:** _Names here_\n",
    "\n",
    "*Due: 11:59pm Friday, April 9, 2021 via GradeScope*\n",
    "\n",
    "---\n",
    "\n",
    "In this homework assignment you'll perform a Bayesian linear regression. As a quick recap of lecture, we have the following notation:\n",
    "\n",
    "- Data:\n",
    " - $\\mathbf{x}_n \\in \\mathbb{R}^P$ feature/covariates for the $n$-th datapoint\n",
    " - $y_n \\in \\mathbb{R}$ observation for the $n$-th datapoint\n",
    "- Parameters:\n",
    " - $\\mathbf{w} \\in \\mathbb{R}^P$  weights\n",
    " - $\\sigma^2$ observation/noise variance\n",
    "- Hyperparameters\n",
    " - $\\nu, \\tau^2$, degrees of freedom and scaling parameter of the inverse chi-squared prior on variance\n",
    " - $\\boldsymbol{\\mu} \\in \\mathbb{R}^P$ mean vector\n",
    " - $\\mathbf{\\Lambda} \\in \\mathbb{R}_{\\succ 0}^{P \\times P}$ positive definite precision matrix\n",
    "\n",
    "The probabilistic model is as follows,\n",
    "\\begin{align}\n",
    "p( \\{y_n \\}_{n=1}^N, \\mathbf{w}, \\sigma^2 \\mid \\{\\mathbf{x}_n\\}_{n=1}^N) \n",
    "&= p(\\mathbf{w}, \\sigma^2) \\prod_{n=1}^N p(y_n \\mid \\mathbf{w}, \\sigma^2, \\mathbf{x}_n) \\\\\n",
    "&= \\mathrm{Inv-}\\chi^2(\\sigma^2 \\mid \\nu, \\tau^2) \\, \\mathcal{N}(\\mathbf{w} \\mid \\boldsymbol{\\mu}, \\sigma^2 \\mathbf{\\Lambda}^{-1}) \n",
    "\\prod_{n=1}^N \\mathcal{N}(y_n \\mid \\mathbf{w}^\\top \\mathbf{x}_n, \\sigma^2).\n",
    "\\end{align}\n",
    "\n",
    "Under this model, the posterior distribution $p(\\mathbf{w}, \\sigma^2 \\mid \\{y_n, \\mathbf{x}_n\\}_{n=1}^N)$ is available in closed form, as the prior is conjugate to the likelihood.\n",
    "\n",
    "Follow the instructions below to compute the posterior distribution and perform the specified analyses. Specifically, we will be performing polynomial regression and recreating plots per the slides of **Lap 1: Bayesian Linear Regression**"
   ]
  },
  {
   "cell_type": "code",
   "execution_count": null,
   "metadata": {},
   "outputs": [],
   "source": [
    "!wget -nc https://raw.githubusercontent.com/slinderman/stats271sp2021/main/assignments/hw1/hw1.csv"
   ]
  },
  {
   "cell_type": "code",
   "execution_count": null,
   "metadata": {},
   "outputs": [],
   "source": [
    "import pandas as pd\n",
    "df = pd.read_csv('hw1.csv')\n",
    "df"
   ]
  },
  {
   "cell_type": "markdown",
   "metadata": {
    "id": "RK9HU0boZxD0"
   },
   "source": [
    "## Problem 1: Plot the data\n",
    "\n",
    "Recreate the plot from page 7 of the slides"
   ]
  },
  {
   "cell_type": "code",
   "execution_count": null,
   "metadata": {
    "id": "gm2TLeKqDRdx"
   },
   "outputs": [],
   "source": []
  },
  {
   "cell_type": "markdown",
   "metadata": {
    "id": "m-CvgtlRZ3dd"
   },
   "source": [
    "## Problem 2: Compute and print the sufficient statistics of the data\n",
    "\n",
    "Using covariates for a polynomial regression of degree 1 (letting the features $\\mathbf{x}_n = (1, u_n)^\\top$, calculate and print out the sufficient statistics (per slide 8)."
   ]
  },
  {
   "cell_type": "code",
   "execution_count": null,
   "metadata": {
    "id": "Vp0ZS99pDdBO"
   },
   "outputs": [],
   "source": []
  },
  {
   "cell_type": "markdown",
   "metadata": {
    "id": "PkVds8POaOL-"
   },
   "source": [
    "## Problem 3: Compute and print the posterior parameters $\\nu'$, $\\tau'^2$, $\\boldsymbol{\\mu}'$, and $\\mathbf{\\Lambda}'$\n",
    "\n",
    "Assume that our prior parameters $\\nu = \\tau^2 = \\boldsymbol{\\mu} = \\mathbf{\\Lambda} = 0$. "
   ]
  },
  {
   "cell_type": "code",
   "execution_count": null,
   "metadata": {
    "id": "rbxyvkTrEKPM"
   },
   "outputs": [],
   "source": []
  },
  {
   "cell_type": "markdown",
   "metadata": {
    "id": "kZe-Wi1wagt9"
   },
   "source": [
    "## Problem 4a: Plot the posterior of $\\sigma^2$\n",
    "\n",
    "(Recreate the plot from slide 25)"
   ]
  },
  {
   "cell_type": "code",
   "execution_count": null,
   "metadata": {
    "id": "t3bQq1rFGKSJ"
   },
   "outputs": [],
   "source": []
  },
  {
   "cell_type": "markdown",
   "metadata": {
    "id": "Rz9qrojPaneT"
   },
   "source": [
    "## Problem 4b: Plot the posterior of $\\mathbf{w}$ for $\\sigma^2 \\in \\{0.2, 0.4, 0.6\\}$\n",
    "\n",
    "(Recreate the figures from slide 26)\n"
   ]
  },
  {
   "cell_type": "code",
   "execution_count": null,
   "metadata": {
    "id": "qfy0cz-JGdye"
   },
   "outputs": [],
   "source": []
  },
  {
   "cell_type": "markdown",
   "metadata": {
    "id": "QjZ1j5A_awNc"
   },
   "source": [
    "## Problem 5: Compute the log marginal likelihood $p(\\{y_n\\} | \\{\\mathbf{x}_n\\})$\n",
    "\n",
    "Compare the log marginal likelihood with covariates $x_n = (u_n^0, \\ldots, u_n^{P-1})$ for $P=0,\\ldots,4$. Use the following prior parameters:\n",
    "- $\\nu = 0.01$\n",
    "- $\\tau^2 = 0.01$\n",
    "- $\\mathbf{\\mu} = (0, \\ldots, 0)^\\top$\n",
    "- $\\mathbf{\\Lambda} = 0.01 I$\n",
    "\n",
    "To recapitulate the plot (slide 33) from lecture, divide the marginal likelihood by $N$ to get the average log marginal likelihood per datapoint."
   ]
  },
  {
   "cell_type": "code",
   "execution_count": null,
   "metadata": {
    "id": "AHvrA6RoG9gJ"
   },
   "outputs": [],
   "source": []
  },
  {
   "cell_type": "markdown",
   "metadata": {
    "id": "_OnB5kf-k7B0"
   },
   "source": [
    "# Submission Instructions\n",
    "\n",
    "\n",
    "**Formatting:** check that your code does not exceed 80 characters in line width. If you're working in Colab, you can set _Tools &rarr; Settings &rarr; Editor &rarr; Vertical ruler column_ to 80 to see when you've exceeded the limit. \n",
    "\n",
    "Download your notebook in .ipynb format and use the following commands to convert it to PDF:\n",
    "```\n",
    "jupyter nbconvert --to pdf hw1_yourname.ipynb\n",
    "```\n",
    "\n",
    "**Dependencies:**\n",
    "\n",
    "- `nbconvert`: If you're using Anaconda for package management, \n",
    "```\n",
    "conda install -c anaconda nbconvert\n",
    "```\n",
    "\n",
    "**Upload** your .ipynb and .pdf files to Gradescope. \n"
   ]
  }
 ],
 "metadata": {
  "colab": {
   "collapsed_sections": [],
   "name": "Copy of STATS271 HW1: Bayesian Linear Regression.ipynb",
   "provenance": []
  },
  "kernelspec": {
   "display_name": "Python 3",
   "language": "python",
   "name": "python3"
  },
  "language_info": {
   "codemirror_mode": {
    "name": "ipython",
    "version": 3
   },
   "file_extension": ".py",
   "mimetype": "text/x-python",
   "name": "python",
   "nbconvert_exporter": "python",
   "pygments_lexer": "ipython3",
   "version": "3.7.7"
  }
 },
 "nbformat": 4,
 "nbformat_minor": 4
}
