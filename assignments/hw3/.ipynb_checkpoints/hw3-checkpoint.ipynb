{
 "cells": [
  {
   "cell_type": "markdown",
   "metadata": {
    "id": "IoYdLutn7dUa"
   },
   "source": [
    "# HW3: Hamiltonian Monte Carlo\n",
    "\n",
    "\n",
    "**STATS271/371: Applied Bayesian Statistics**\n",
    "\n",
    "_Stanford University. Winter, 2021._\n",
    "\n",
    "---\n",
    "\n",
    "**Name:** Jake Taylor\n",
    "\n",
    "**Names of any collaborators:** _Names here_\n",
    "\n",
    "*Due: 11:59pm Friday, April 23, 2021 via GradeScope*\n",
    "\n",
    "---\n",
    "\n",
    "In this homework assignment you'll perform MCMC with both Metropolis-Hastings Hamiltonian Monte Carlo. We will investigate the Federalist papers---specifically, modeling the rate at which Hamilton (we're using HMC after all!) uses the word _can_ in his papers. \n",
    "\n",
    "We will fit this model using a negative binomial distribution. That is, for each document $n$ that Hamilton wrote, we have the number of times the word 'can' appears $y_n$ as \n",
    "\\begin{align}\n",
    "y_n \\sim \\text{NB}(\\mu_n, r)\n",
    "\\end{align}\n",
    "where \n",
    "\\begin{align}\n",
    "\\text{NB}(y_n \\mid \\mu_n, r) = \\frac{\\Gamma(y_n+r)}{\\Gamma(r) \\Gamma(y_n+1)} \\left(\\frac{r}{\\mu_n + r}\\right)^r \\left(1 - \\frac{r}{\\mu_n + r}\\right)^{y_n}\n",
    "\\end{align}\n",
    "The mean is given by $\\mathbb{E}[y_n] = \\mu_n$, and $r$ controls the dispersion. Here, we model the mean for document $n$ as\n",
    "\\begin{align}\n",
    "\\mu_n = \\frac{T_n}{1000} \\mu\n",
    "\\end{align}\n",
    "where $\\mu$ is the rate of usage of 'can' per 1000 words and $T_n$ is the number of words in document $n$ (i.e. the document length).\n",
    "\n",
    "For our model, we will use the following prior for the non-negative parameters,\n",
    "\\begin{align}\n",
    "\\log \\mu &\\sim \\mathcal{N}(0, 9) \\\\\n",
    "\\log r &\\sim \\mathcal{N}(0, 9)\n",
    "\\end{align}\n",
    "\n",
    "In a classic paper, Mosteller and Wallace (JASA, 1963) used likelihood ratios under negative binomial models with different mean rates for Alexander Hamilton and James Madison to infer the more likely author of disputed Federalist papers. Spoiler alert: while Hamilton wrote the majority of the papers, the 12 disputed papers appear to be Madison's! A key step in their analysis was estimating the NB parameters. While Mosteller and Wallace used a point estimate for each word and author, you'll do full posterior inference, focusing on Hamilton's use of the word _can_.\n"
   ]
  },
  {
   "cell_type": "code",
   "execution_count": 1,
   "metadata": {},
   "outputs": [
    {
     "name": "stdout",
     "output_type": "stream",
     "text": [
      "File ‘federalist_can_hamilton.csv’ already there; not retrieving.\n",
      "\n"
     ]
    }
   ],
   "source": [
    "!wget -nc https://raw.githubusercontent.com/slinderman/stats271sp2021/main/assignments/hw3/federalist_can_hamilton.csv"
   ]
  },
  {
   "cell_type": "code",
   "execution_count": 2,
   "metadata": {},
   "outputs": [
    {
     "data": {
      "text/plain": [
       "[(3, 1622), (5, 2511), (2, 2171), (4, 970), (14, 3095)]"
      ]
     },
     "execution_count": 2,
     "metadata": {},
     "output_type": "execute_result"
    }
   ],
   "source": [
    "import pandas as pd\n",
    "import numpy as np\n",
    "from matplotlib import pyplot as plt\n",
    "\n",
    "# Load the data\n",
    "df = pd.read_csv('federalist_can_hamilton.csv')\n",
    "Ts = np.array(df['Total'])\n",
    "ys = np.array(df['N'])\n",
    "# preview data\n",
    "list(zip(ys, Ts))[:5]"
   ]
  },
  {
   "cell_type": "markdown",
   "metadata": {},
   "source": [
    "## Problem 1  [math]: Show that the negative binomial can be expressed as the marginal distribution of a Poisson with gamma prior\n",
    "\n",
    "Similar to how the Student's t distribution is a marginal of an inverse chi-squared and a Gaussian, show that\n",
    "\n",
    "\\begin{align}\n",
    "\\text{NB}(y \\mid \\mu, r) = \\int \\text{Po}(y \\mid \\lambda) \\, \\text{Ga}(\\lambda \\mid \\alpha,\\beta) \\, \\mathrm{d}\\lambda\n",
    "\\end{align}\n",
    "\n",
    "Express the parameters of the negative binomial distribution as a function of the parameters of the gamma distribution. (Assume $\\beta$ is the rate parameter.)  \n",
    "\\begin{gather*}\n",
    "\\int Po(y | \\lambda) Ga(\\lambda | \\alpha, \\beta) d\\lambda = \\int \\frac{\\lambda^y e^{-y}}{y!}\\frac{\\lambda^{\\alpha-1}e^{\\beta\\lambda}}{\\beta^{-\\alpha}\\Gamma(\\alpha)}d\\lambda \\\\\n",
    "=\\frac{\\beta^\\alpha}{\\Gamma(y+1)\\Gamma(a)}\\int \\lambda^{\\alpha + y - 1}e^{-\\lambda(1 + \\beta)} d\\lambda\\\\\n",
    "x = \\lambda(1 + \\beta),\\frac{dx}{d\\lambda} = (1+\\beta),  z = \\alpha + y\\\\\n",
    "= \\frac{\\beta^\\alpha}{\\Gamma(y+1)\\Gamma(a)}\\int (\\frac{x}{1 + \\beta})^{\\alpha + y - 1}e^{-x}d\\lambda \\frac{dx}{d\\lambda} (1+\\beta)^{-1}\\\\\n",
    "=\\frac{\\beta^\\alpha}{\\Gamma(y+1)\\Gamma(a)} (1 + \\beta)^{-z + 1}(1 + \\beta)^{-1}\\int x^{z-1}e^{-x}dx\\\\\n",
    "= \\frac{\\Gamma(\\alpha + y)}{\\Gamma(y+1)\\Gamma(a)} \\beta^\\alpha (1 + \\beta)^{-(\\alpha + y)}\\\\\n",
    "= \\frac{\\Gamma(\\alpha + y)}{\\Gamma(y+1)\\Gamma(a)} \\beta^\\alpha (\\frac{1}{1+\\beta})^\\alpha(\\frac{1}{1+\\beta})^y\\\\\n",
    "\\fbox{$\\alpha = r$}, \\frac{1}{1+\\beta} = 1 - \\frac{r}{\\mu+ r} = \\frac{\\mu}{\\mu + r} \\implies \\fbox{$\\beta = \\frac{r}{\\mu}$}\\\\\n",
    "= \\frac{\\Gamma(r + y)}{\\Gamma(y+1)\\Gamma(r)} (\\frac{r}{\\mu})^r (\\frac{\\mu}{\\mu + r})^r(1 - \\frac{r}{\\mu+ r})^y \\\\\n",
    "= \\frac{\\Gamma(r + y)}{\\Gamma(y+1)\\Gamma(r)} (\\frac{r}{\\mu + r})^r (1 - \\frac{r}{\\mu+ r})^y \\\\\n",
    "= NB(y | \\mu, r)\\\\\n",
    "\\implies r = \\alpha, \\mu = \\frac{\\alpha}{\\beta}\n",
    "\\end{gather*}"
   ]
  },
  {
   "cell_type": "markdown",
   "metadata": {
    "id": "RK9HU0boZxD0"
   },
   "source": [
    "## Problem 2: Implement the log joint probability of the model"
   ]
  },
  {
   "cell_type": "code",
   "execution_count": 94,
   "metadata": {
    "id": "gm2TLeKqDRdx"
   },
   "outputs": [],
   "source": [
    "import autograd.scipy.stats as ss\n",
    "import autograd.scipy.special as sp\n",
    "\n",
    "def log_joint(log_mu, log_r, ys=ys, Ts=Ts):\n",
    "    N = len(ys)\n",
    "    mu = np.exp(log_mu)\n",
    "    r = np.exp(log_r)\n",
    "    mus = (Ts / 1000.0) * mu\n",
    "    p = r / (mus + r)\n",
    "    likelihood = (np.sum(np.log(sp.gamma(ys + r)))\n",
    "                  - np.sum(np.log(sp.gamma(ys + 1)))\n",
    "                  - N * np.log(sp.gamma(r))\n",
    "                  + np.sum(ys * np.log(1 - p))\n",
    "                  + np.sum(r * np.log(p)))\n",
    "    #likelihood = np.sum(ss.nbinom.logpmf(ys, n=r, p=p))\n",
    "    r_prior = ss.norm.logpdf(log_r, 0.0, 3.0)\n",
    "    mu_prior = ss.norm.logpdf(log_mu, 0.0, 3.0) \n",
    "    return  likelihood + r_prior + mu_prior"
   ]
  },
  {
   "cell_type": "code",
   "execution_count": 95,
   "metadata": {},
   "outputs": [
    {
     "data": {
      "text/plain": [
       "-169.40747146591295"
      ]
     },
     "execution_count": 95,
     "metadata": {},
     "output_type": "execute_result"
    }
   ],
   "source": [
    "log_joint(ys=ys, Ts=Ts, log_mu=0, log_r=0)"
   ]
  },
  {
   "cell_type": "markdown",
   "metadata": {},
   "source": [
    "For the following MC implementation problems, sample in $\\log(\\mu), \\log(r)$ space. Initialize with $\\log(\\mu) = 0, \\log(r) = 0$."
   ]
  },
  {
   "cell_type": "markdown",
   "metadata": {},
   "source": [
    "## Problem 3: Implement Metropolis-Hastings\n",
    "\n",
    "Implement and run Metropolis-Hastings with a spherical Gaussian proposal. Try various proposal variances."
   ]
  },
  {
   "cell_type": "code",
   "execution_count": 82,
   "metadata": {},
   "outputs": [],
   "source": [
    "def metropolis(log_mu=0,\n",
    "               log_r=0,\n",
    "               q_sigma = 1,\n",
    "               iterations=100,\n",
    "               lik=log_joint\n",
    "              ):\n",
    "    \"\"\" MCMC approximate inference \"\"\"\n",
    "    from scipy.stats import (multivariate_normal,\n",
    "                             bernoulli)\n",
    "    from numpy.random import rand\n",
    "    theta = [log_mu, log_r]\n",
    "    cache = [theta]\n",
    "    for i in range(iterations):\n",
    "        # proposal step\n",
    "        theta_prime = multivariate_normal.rvs(mean=theta,\n",
    "                               cov=np.diag([q_sigma] * 2),\n",
    "                               size=1)\n",
    "        \n",
    "        # accept/ reject step\n",
    "        A = np.exp(lik(theta_prime[0], theta_prime[1])\n",
    "             - lik(theta[0], theta[1]))\n",
    "        a = np.min([1.0, A])\n",
    "        if bernoulli.rvs(p=a) == 1:\n",
    "            theta = theta_prime\n",
    "        cache.append(theta)\n",
    "    return np.array(cache)"
   ]
  },
  {
   "cell_type": "code",
   "execution_count": 83,
   "metadata": {},
   "outputs": [],
   "source": [
    "mcmc = metropolis(ys, Ts, q_sigma=0.1, iterations=10000)"
   ]
  },
  {
   "cell_type": "markdown",
   "metadata": {
    "id": "m-CvgtlRZ3dd"
   },
   "source": [
    "\n",
    "## Problem 4: Implement Hamiltonian Monte Carlo\n",
    "\n",
    "Implement the leapfrog step as a function, and run HMC. Try various step sizes and number of leapfrog steps."
   ]
  },
  {
   "cell_type": "code",
   "execution_count": 178,
   "metadata": {},
   "outputs": [],
   "source": [
    "def hamiltonian(log_mu=0.0,\n",
    "                log_r=0.0,\n",
    "                epsilon = 0.01,\n",
    "                iterations=10000,\n",
    "                leapfrog_steps=40,\n",
    "                func=log_joint\n",
    "              ):\n",
    "    \"\"\" HMC approximate inference \"\"\"\n",
    "    from scipy.stats import (multivariate_normal,\n",
    "                             bernoulli)\n",
    "    from numpy.random import rand\n",
    "    import autograd.numpy as np \n",
    "    import autograd.scipy.stats as ss\n",
    "    import autograd.scipy.special as sp\n",
    "    from autograd import grad\n",
    "    from autograd.misc import flatten\n",
    "    \n",
    "    # Setup gradient function\n",
    "    q, unflatten = flatten([log_mu, log_r])\n",
    "    \n",
    "    def U(params):\n",
    "        log_mu, log_r = unflatten(params)\n",
    "        return -log_joint(log_mu, log_r)\n",
    "\n",
    "    grad_U = grad(U)\n",
    "    current_q = q\n",
    "    cache = [q]\n",
    "    for i in range(iterations):\n",
    "        # proposal step\n",
    "        p = multivariate_normal.rvs(mean=[0, 0],\n",
    "                               cov=np.diag([1, 1]),\n",
    "                               size=1)\n",
    "        current_p = p\n",
    "        \n",
    "        # First half step\n",
    "        p = p - epsilon * grad_U(q) / 2\n",
    "        \n",
    "        # Alternate full steps for position and momentum\n",
    "        for j in range(leapfrog_steps):\n",
    "            q = q + epsilon * p\n",
    "            if j != leapfrog_steps-1:\n",
    "                # Full step when not at end of trajectory\n",
    "                p = p - epsilon * grad_U(q)\n",
    "        \n",
    "        # half step for momentum at end\n",
    "        p = p - epsilon * grad_U(q) / 2\n",
    "        \n",
    "        # negate p to make proposal symmetric\n",
    "        p = -p\n",
    "        \n",
    "        current_U = U(current_q)\n",
    "        current_K = np.sum(np.power(current_p, 2)) / 2\n",
    "        proposed_U = U(q)\n",
    "        proposed_K = np.sum(np.power(p, 2)) / 2\n",
    "        \n",
    "        # accept/ reject step\n",
    "        A = np.exp(current_U - proposed_U + current_K - proposed_K)\n",
    "        a = np.min([1.0, A])\n",
    "        if bernoulli.rvs(p=a) == 1:\n",
    "            current_q = q\n",
    "        cache.append(current_q)\n",
    "    return np.array(cache)"
   ]
  },
  {
   "cell_type": "code",
   "execution_count": 179,
   "metadata": {},
   "outputs": [],
   "source": [
    "hmc = hamiltonian()"
   ]
  },
  {
   "cell_type": "markdown",
   "metadata": {},
   "source": [
    "## Problem 5: Diagnostics\n",
    "\n",
    "For both algorithms, make trace plots of the parameters and plot histograms of posterior marginals."
   ]
  },
  {
   "cell_type": "code",
   "execution_count": 171,
   "metadata": {
    "tags": []
   },
   "outputs": [
    {
     "data": {
      "image/png": "[encoded data removed]",
      "text/plain": [
       "<Figure size 432x288 with 1 Axes>"
      ]
     },
     "metadata": {
      "needs_background": "light"
     },
     "output_type": "display_data"
    }
   ],
   "source": [
    "plt.plot(np.exp(mcmc[:,1]), color = 'orange',  label = r'$r$')\n",
    "plt.plot(np.exp(mcmc[:,0]), color = 'blue', label = r'$\\mu$')\n",
    "plt.axhline((df.N * 1000 / df.Total).mean(),\n",
    "            color='red', \n",
    "            ls='--',\n",
    "            label=r'Sample Mean of $\\mu$')\n",
    "plt.legend()\n",
    "plt.show()"
   ]
  },
  {
   "cell_type": "code",
   "execution_count": 172,
   "metadata": {},
   "outputs": [
    {
     "data": {
      "image/png": "[encoded data removed]",
      "text/plain": [
       "<Figure size 432x288 with 1 Axes>"
      ]
     },
     "metadata": {
      "needs_background": "light"
     },
     "output_type": "display_data"
    }
   ],
   "source": [
    "plt.hist(np.exp(mcmc[:,1]), color='orange', label = r'$r$')\n",
    "plt.hist(np.exp(mcmc[:,0]), color='blue', label = r'$\\mu$')\n",
    "plt.axvline((df.N * 1000 / df.Total).mean(), color='red', ls='--', label=r'Sample Mean of $\\mu$')\n",
    "plt.legend()\n",
    "plt.show()"
   ]
  },
  {
   "cell_type": "code",
   "execution_count": 180,
   "metadata": {
    "id": "t3bQq1rFGKSJ",
    "scrolled": true
   },
   "outputs": [
    {
     "data": {
      "image/png": "[encoded data removed]",
      "text/plain": [
       "<Figure size 432x288 with 1 Axes>"
      ]
     },
     "metadata": {
      "needs_background": "light"
     },
     "output_type": "display_data"
    }
   ],
   "source": [
    "plt.plot(np.exp(hmc[:,1]), color = 'orange',  label = r'$r$')\n",
    "plt.plot(np.exp(hmc[:,0]), color = 'blue', label = r'$\\mu$')\n",
    "plt.axhline((df.N * 1000 / df.Total).mean(),\n",
    "            color='red', \n",
    "            ls='--',\n",
    "            label=r'Sample Mean of $\\mu$')\n",
    "plt.legend()\n",
    "plt.show()"
   ]
  },
  {
   "cell_type": "code",
   "execution_count": 181,
   "metadata": {},
   "outputs": [
    {
     "data": {
      "image/png": "[encoded data removed]",
      "text/plain": [
       "<Figure size 432x288 with 1 Axes>"
      ]
     },
     "metadata": {
      "needs_background": "light"
     },
     "output_type": "display_data"
    }
   ],
   "source": [
    "plt.hist(np.exp(hmc[:,0]), color='blue', alpha = 0.5, label = r'$\\mu$')\n",
    "plt.hist(np.exp(hmc[:,1]), color='orange', alpha = 0.5, label = r'$r$')\n",
    "plt.axvline((df.N * 1000 / df.Total).mean(), color='red', ls='--', label=r'Sample Mean of $\\mu$')\n",
    "plt.legend()\n",
    "plt.show()"
   ]
  },
  {
   "cell_type": "markdown",
   "metadata": {},
   "source": [
    "## Problem 6: Effective Sample Size\n",
    "\n",
    "Calculate effective sample size for both chains."
   ]
  },
  {
   "cell_type": "code",
   "execution_count": 162,
   "metadata": {},
   "outputs": [],
   "source": [
    "import tensorflow_probability as tfp"
   ]
  },
  {
   "cell_type": "code",
   "execution_count": 165,
   "metadata": {},
   "outputs": [
    {
     "name": "stdout",
     "output_type": "stream",
     "text": [
      "tf.Tensor([1695.60398171  588.14185735], shape=(2,), dtype=float64)\n"
     ]
    }
   ],
   "source": [
    "ess = tfp.mcmc.effective_sample_size(mcmc, filter_beyond_positive_pairs=True)\n",
    "print(ess)"
   ]
  },
  {
   "cell_type": "code",
   "execution_count": 182,
   "metadata": {},
   "outputs": [
    {
     "name": "stdout",
     "output_type": "stream",
     "text": [
      "tf.Tensor([42821.14201287  4194.85155251], shape=(2,), dtype=float64)\n"
     ]
    }
   ],
   "source": [
    "ess = tfp.mcmc.effective_sample_size(hmc, filter_beyond_positive_pairs=True)\n",
    "print(ess)"
   ]
  },
  {
   "cell_type": "markdown",
   "metadata": {
    "id": "_OnB5kf-k7B0"
   },
   "source": [
    "**Formatting:** check that your code does not exceed 80 characters in line width. If you're working in Colab, you can set _Tools &rarr; Settings &rarr; Editor &rarr; Vertical ruler column_ to 80 to see when you've exceeded the limit. \n",
    "\n",
    "Download your notebook in .ipynb format and use the following commands to convert it to PDF:\n",
    "```\n",
    "jupyter nbconvert --to pdf hw3_yourname.ipynb\n",
    "```\n",
    "\n",
    "**Dependencies:**\n",
    "\n",
    "- `nbconvert`: If you're using Anaconda for package management, \n",
    "```\n",
    "conda install -c anaconda nbconvert\n",
    "```\n",
    "\n",
    "**Upload** your .ipynb and .pdf files to Gradescope. \n"
   ]
  }
 ],
 "metadata": {
  "colab": {
   "collapsed_sections": [],
   "name": "Copy of STATS271 HW1: Bayesian Linear Regression.ipynb",
   "provenance": []
  },
  "kernelspec": {
   "display_name": "Python 3",
   "language": "python",
   "name": "python3"
  },
  "language_info": {
   "codemirror_mode": {
    "name": "ipython",
    "version": 3
   },
   "file_extension": ".py",
   "mimetype": "text/x-python",
   "name": "python",
   "nbconvert_exporter": "python",
   "pygments_lexer": "ipython3",
   "version": "3.9.2"
  }
 },
 "nbformat": 4,
 "nbformat_minor": 4
}
